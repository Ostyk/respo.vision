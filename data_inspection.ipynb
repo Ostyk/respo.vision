{
 "cells": [
  {
   "cell_type": "code",
   "execution_count": 12,
   "metadata": {},
   "outputs": [],
   "source": [
    "import os\n",
    "import sys\n",
    "import numpy as np\n",
    "import pandas as pd\n",
    "import seaborn as sns\n",
    "import matplotlib.pyplot as plt"
   ]
  },
  {
   "cell_type": "markdown",
   "metadata": {},
   "source": [
    "# data loading"
   ]
  },
  {
   "cell_type": "code",
   "execution_count": 13,
   "metadata": {},
   "outputs": [
    {
     "name": "stdout",
     "output_type": "stream",
     "text": [
      "Training: {'pos': 1643, 'neg': 1335}\n",
      "Test: 600\n"
     ]
    }
   ],
   "source": [
    "df_train = pd.DataFrame([])\n",
    "df_test = pd.DataFrame([])\n",
    "\n",
    "counts = {'pos': 0,\n",
    "          'neg': 0}\n",
    "test_name = 'FrameFilter-test_set'\n",
    "for folder in os.listdir('data'):\n",
    "    sub = os.path.join('data', folder)\n",
    "    if os.path.isdir(sub) and folder!='.ipynb_checkpoints':\n",
    "        \n",
    "\n",
    "        if folder !=test_name:\n",
    "            for s in os.listdir(sub):\n",
    "\n",
    "                sub_parts = os.path.join(sub, s)\n",
    "                l = len(os.listdir(sub_parts))\n",
    "                counts[s]+=l\n",
    "\n",
    "                tmp  = pd.DataFrame({'root': [sub_parts for i in range(l)],\n",
    "                                     'img_name': os.listdir(sub_parts),\n",
    "                                     'frame': [s for i in range(l)]})\n",
    "                df_train = df_train.append(tmp, ignore_index=True)\n",
    "            \n",
    "test_paths = os.listdir(os.path.join('data', test_name))\n",
    "df_test = df_test.append(pd.DataFrame({\"img_name\": test_paths,\n",
    "                                      'root': [os.path.join('data', test_name) for i in range(len(test_paths))]\n",
    "                                      }))\n",
    "\n",
    "print(\"Training: {}\".format(counts))\n",
    "print(\"Test: {}\".format(len(test_paths)))"
   ]
  },
  {
   "cell_type": "code",
   "execution_count": 14,
   "metadata": {},
   "outputs": [
    {
     "data": {
      "text/plain": [
       "'FrameFilter-test_set'"
      ]
     },
     "execution_count": 14,
     "metadata": {},
     "output_type": "execute_result"
    }
   ],
   "source": [
    "folder"
   ]
  },
  {
   "cell_type": "code",
   "execution_count": 15,
   "metadata": {},
   "outputs": [
    {
     "data": {
      "text/plain": [
       "((2978, 3), (600, 2))"
      ]
     },
     "execution_count": 15,
     "metadata": {},
     "output_type": "execute_result"
    }
   ],
   "source": [
    "df_train.shape, df_test.shape "
   ]
  },
  {
   "cell_type": "markdown",
   "metadata": {},
   "source": [
    "-------"
   ]
  },
  {
   "cell_type": "markdown",
   "metadata": {},
   "source": [
    "# Training data analysis"
   ]
  },
  {
   "cell_type": "markdown",
   "metadata": {},
   "source": [
    "## splitting to see more insights on particular frame data info"
   ]
  },
  {
   "cell_type": "code",
   "execution_count": 16,
   "metadata": {},
   "outputs": [],
   "source": [
    "df_train[['extraction_index', \n",
    "        'match_hash',\n",
    "        'minute',\n",
    "        'frame_shift',\n",
    "        'frame_idx']] = df_train['img_name'].str.split('-',expand=True)\n",
    "df_train[['frame_idx', 'format']] = df_train['img_name'].str.split('.', expand=True)\n",
    "df_train[['extraction_index', 'minute','frame_shift']] = df_train[['extraction_index', 'minute','frame_shift']].astype(np.int)"
   ]
  },
  {
   "cell_type": "code",
   "execution_count": 17,
   "metadata": {},
   "outputs": [
    {
     "data": {
      "text/html": [
       "<div>\n",
       "<style scoped>\n",
       "    .dataframe tbody tr th:only-of-type {\n",
       "        vertical-align: middle;\n",
       "    }\n",
       "\n",
       "    .dataframe tbody tr th {\n",
       "        vertical-align: top;\n",
       "    }\n",
       "\n",
       "    .dataframe thead th {\n",
       "        text-align: right;\n",
       "    }\n",
       "</style>\n",
       "<table border=\"1\" class=\"dataframe\">\n",
       "  <thead>\n",
       "    <tr style=\"text-align: right;\">\n",
       "      <th></th>\n",
       "      <th>root</th>\n",
       "      <th>img_name</th>\n",
       "      <th>frame</th>\n",
       "      <th>extraction_index</th>\n",
       "      <th>match_hash</th>\n",
       "      <th>minute</th>\n",
       "      <th>frame_shift</th>\n",
       "      <th>frame_idx</th>\n",
       "      <th>format</th>\n",
       "    </tr>\n",
       "  </thead>\n",
       "  <tbody>\n",
       "    <tr>\n",
       "      <th>0</th>\n",
       "      <td>data/FrameFilter-set1_4k/neg</td>\n",
       "      <td>000106-b02b6c3d281910efa015269b-6-200-9200.jpg</td>\n",
       "      <td>neg</td>\n",
       "      <td>106</td>\n",
       "      <td>b02b6c3d281910efa015269b</td>\n",
       "      <td>6</td>\n",
       "      <td>200</td>\n",
       "      <td>000106-b02b6c3d281910efa015269b-6-200-9200</td>\n",
       "      <td>jpg</td>\n",
       "    </tr>\n",
       "    <tr>\n",
       "      <th>1</th>\n",
       "      <td>data/FrameFilter-set1_4k/neg</td>\n",
       "      <td>000269-cda0284e800d20775861998a-3-400-4900.jpg</td>\n",
       "      <td>neg</td>\n",
       "      <td>269</td>\n",
       "      <td>cda0284e800d20775861998a</td>\n",
       "      <td>3</td>\n",
       "      <td>400</td>\n",
       "      <td>000269-cda0284e800d20775861998a-3-400-4900</td>\n",
       "      <td>jpg</td>\n",
       "    </tr>\n",
       "    <tr>\n",
       "      <th>2</th>\n",
       "      <td>data/FrameFilter-set1_4k/neg</td>\n",
       "      <td>000922-ee2c6f24bd9845218577df88-5-200-9191.jpg</td>\n",
       "      <td>neg</td>\n",
       "      <td>922</td>\n",
       "      <td>ee2c6f24bd9845218577df88</td>\n",
       "      <td>5</td>\n",
       "      <td>200</td>\n",
       "      <td>000922-ee2c6f24bd9845218577df88-5-200-9191</td>\n",
       "      <td>jpg</td>\n",
       "    </tr>\n",
       "    <tr>\n",
       "      <th>3</th>\n",
       "      <td>data/FrameFilter-set1_4k/neg</td>\n",
       "      <td>000208-cda0284e800d20775861998a-0-800-800.jpg</td>\n",
       "      <td>neg</td>\n",
       "      <td>208</td>\n",
       "      <td>cda0284e800d20775861998a</td>\n",
       "      <td>0</td>\n",
       "      <td>800</td>\n",
       "      <td>000208-cda0284e800d20775861998a-0-800-800</td>\n",
       "      <td>jpg</td>\n",
       "    </tr>\n",
       "    <tr>\n",
       "      <th>4</th>\n",
       "      <td>data/FrameFilter-set1_4k/neg</td>\n",
       "      <td>000155-e454a13b26a10fe08ef05181-3-200-4700.jpg</td>\n",
       "      <td>neg</td>\n",
       "      <td>155</td>\n",
       "      <td>e454a13b26a10fe08ef05181</td>\n",
       "      <td>3</td>\n",
       "      <td>200</td>\n",
       "      <td>000155-e454a13b26a10fe08ef05181-3-200-4700</td>\n",
       "      <td>jpg</td>\n",
       "    </tr>\n",
       "  </tbody>\n",
       "</table>\n",
       "</div>"
      ],
      "text/plain": [
       "                           root  \\\n",
       "0  data/FrameFilter-set1_4k/neg   \n",
       "1  data/FrameFilter-set1_4k/neg   \n",
       "2  data/FrameFilter-set1_4k/neg   \n",
       "3  data/FrameFilter-set1_4k/neg   \n",
       "4  data/FrameFilter-set1_4k/neg   \n",
       "\n",
       "                                         img_name frame  extraction_index  \\\n",
       "0  000106-b02b6c3d281910efa015269b-6-200-9200.jpg   neg               106   \n",
       "1  000269-cda0284e800d20775861998a-3-400-4900.jpg   neg               269   \n",
       "2  000922-ee2c6f24bd9845218577df88-5-200-9191.jpg   neg               922   \n",
       "3   000208-cda0284e800d20775861998a-0-800-800.jpg   neg               208   \n",
       "4  000155-e454a13b26a10fe08ef05181-3-200-4700.jpg   neg               155   \n",
       "\n",
       "                 match_hash  minute  frame_shift  \\\n",
       "0  b02b6c3d281910efa015269b       6          200   \n",
       "1  cda0284e800d20775861998a       3          400   \n",
       "2  ee2c6f24bd9845218577df88       5          200   \n",
       "3  cda0284e800d20775861998a       0          800   \n",
       "4  e454a13b26a10fe08ef05181       3          200   \n",
       "\n",
       "                                    frame_idx format  \n",
       "0  000106-b02b6c3d281910efa015269b-6-200-9200    jpg  \n",
       "1  000269-cda0284e800d20775861998a-3-400-4900    jpg  \n",
       "2  000922-ee2c6f24bd9845218577df88-5-200-9191    jpg  \n",
       "3   000208-cda0284e800d20775861998a-0-800-800    jpg  \n",
       "4  000155-e454a13b26a10fe08ef05181-3-200-4700    jpg  "
      ]
     },
     "execution_count": 17,
     "metadata": {},
     "output_type": "execute_result"
    }
   ],
   "source": [
    "df_train.head()"
   ]
  },
  {
   "cell_type": "markdown",
   "metadata": {},
   "source": [
    "### exploring data to see how to split the dataset into training and validation\n",
    "* both of these should roughly include the same proportion of minute ranges, and other similarities"
   ]
  },
  {
   "cell_type": "code",
   "execution_count": 18,
   "metadata": {},
   "outputs": [
    {
     "data": {
      "text/plain": [
       "<matplotlib.axes._subplots.AxesSubplot at 0x7f946aa5a350>"
      ]
     },
     "execution_count": 18,
     "metadata": {},
     "output_type": "execute_result"
    },
    {
     "data": {
      "image/png": "[encoded data removed]",
      "text/plain": [
       "<Figure size 1080x360 with 3 Axes>"
      ]
     },
     "metadata": {
      "needs_background": "light"
     },
     "output_type": "display_data"
    }
   ],
   "source": [
    "plt.figure(figsize=(15,5))\n",
    "plt.subplot(131)\n",
    "sns.distplot(df_train.extraction_index)\n",
    "plt.subplot(132)\n",
    "sns.distplot(df_train.minute)\n",
    "plt.subplot(133)\n",
    "sns.distplot(df_train.frame_shift)"
   ]
  },
  {
   "cell_type": "code",
   "execution_count": 19,
   "metadata": {},
   "outputs": [
    {
     "data": {
      "text/plain": [
       "25"
      ]
     },
     "execution_count": 19,
     "metadata": {},
     "output_type": "execute_result"
    }
   ],
   "source": [
    "len(df_train.match_hash.unique())\n",
    "# therefore 25 matches were used here"
   ]
  },
  {
   "cell_type": "code",
   "execution_count": 20,
   "metadata": {},
   "outputs": [
    {
     "data": {
      "text/plain": [
       "2978"
      ]
     },
     "execution_count": 20,
     "metadata": {},
     "output_type": "execute_result"
    }
   ],
   "source": [
    "len(df_train.frame_idx.unique())\n",
    "## there for it's unique"
   ]
  },
  {
   "cell_type": "markdown",
   "metadata": {},
   "source": [
    "#### explanation\n",
    "\n",
    "- extraction_index: index of the extracted frame in a sequence, just for sorting purposes, some indices can exist multiple times\n",
    "- match_hash: hashed match name\n",
    "- minute: minute of the match, from which the frame comes\n",
    "- frame_shift: during extraction, random frame shift (by number of frames equal to  frame_shift) is applied to increase diversity\n",
    "- frame_idx: global frame index from a video"
   ]
  },
  {
   "cell_type": "markdown",
   "metadata": {},
   "source": [
    "# displot analysis\n",
    " * first thing I have noticed is that we have a lot of frames at the start of the match, and very few towards the end. This has to be balanced out when splitting into traina and validation sets\n",
    " * "
   ]
  },
  {
   "cell_type": "markdown",
   "metadata": {},
   "source": [
    "https://towardsdatascience.com/transfer-learning-from-pre-trained-models-f2393f124751"
   ]
  },
  {
   "cell_type": "markdown",
   "metadata": {},
   "source": [
    "# Testing data analysis"
   ]
  },
  {
   "cell_type": "code",
   "execution_count": 21,
   "metadata": {},
   "outputs": [],
   "source": [
    "df_test[['extraction_index', \n",
    "        'match_hash',\n",
    "        'minute',\n",
    "        'frame_shift',\n",
    "        'frame_idx']] = df_test['img_name'].str.split('-',expand=True)\n",
    "df_test[['frame_idx', 'format']] = df_train['img_name'].str.split('.', expand=True)\n",
    "df_test[['extraction_index', 'minute','frame_shift']] = df_test[['extraction_index', 'minute','frame_shift']].astype(np.int)"
   ]
  },
  {
   "cell_type": "code",
   "execution_count": 22,
   "metadata": {},
   "outputs": [
    {
     "data": {
      "text/plain": [
       "<matplotlib.axes._subplots.AxesSubplot at 0x7f946acfb950>"
      ]
     },
     "execution_count": 22,
     "metadata": {},
     "output_type": "execute_result"
    },
    {
     "data": {
      "image/png": "[encoded data removed]",
      "text/plain": [
       "<Figure size 1080x360 with 3 Axes>"
      ]
     },
     "metadata": {
      "needs_background": "light"
     },
     "output_type": "display_data"
    }
   ],
   "source": [
    "plt.figure(figsize=(15,5))\n",
    "plt.subplot(131)\n",
    "sns.distplot(df_test.extraction_index)\n",
    "plt.subplot(132)\n",
    "sns.distplot(df_test.minute)\n",
    "plt.subplot(133)\n",
    "sns.distplot(df_test.frame_shift)"
   ]
  },
  {
   "cell_type": "code",
   "execution_count": null,
   "metadata": {},
   "outputs": [],
   "source": []
  },
  {
   "cell_type": "code",
   "execution_count": 23,
   "metadata": {},
   "outputs": [
    {
     "data": {
      "text/plain": [
       "Text(0.5, 1.0, 'test set')"
      ]
     },
     "execution_count": 23,
     "metadata": {},
     "output_type": "execute_result"
    },
    {
     "data": {
      "image/png": "[encoded data removed]",
      "text/plain": [
       "<Figure size 432x288 with 2 Axes>"
      ]
     },
     "metadata": {
      "needs_background": "light"
     },
     "output_type": "display_data"
    }
   ],
   "source": [
    "\n",
    "plt.subplot(121)\n",
    "sns.distplot(df_train.minute)\n",
    "plt.title(\"training set\")\n",
    "plt.subplot(122)\n",
    "sns.distplot(df_test.minute)\n",
    "plt.title(\"test set\")"
   ]
  },
  {
   "cell_type": "code",
   "execution_count": null,
   "metadata": {},
   "outputs": [],
   "source": []
  },
  {
   "cell_type": "markdown",
   "metadata": {},
   "source": [
    "\n",
    "<img src=\"docs/img.jpeg\" width=800 height=400 />"
   ]
  },
  {
   "cell_type": "code",
   "execution_count": null,
   "metadata": {},
   "outputs": [],
   "source": []
  },
  {
   "cell_type": "code",
   "execution_count": null,
   "metadata": {},
   "outputs": [],
   "source": []
  },
  {
   "cell_type": "markdown",
   "metadata": {},
   "source": [
    "# Train test split $-$ brain storming\n",
    " * try to have a balance of minute count in both train and validation\n",
    " * don't have the same match in the train and validaiton set as to avoid overfitting\n",
    "     * at the same time keeping a class balance between positive and negative classes in the two datasets"
   ]
  },
  {
   "cell_type": "code",
   "execution_count": 24,
   "metadata": {},
   "outputs": [],
   "source": [
    "#Kombinacje bez powtórzeń"
   ]
  },
  {
   "cell_type": "code",
   "execution_count": 25,
   "metadata": {},
   "outputs": [],
   "source": [
    "from itertools import chain, permutations, combinations"
   ]
  },
  {
   "cell_type": "code",
   "execution_count": 26,
   "metadata": {},
   "outputs": [],
   "source": [
    "options = dict()\n",
    "\n",
    "for match in df_train.match_hash.unique():\n",
    "    \n",
    "    n_pos = len(tmp[tmp.frame=='pos'])\n",
    "    tmp = df_train[df_train.match_hash==match]\n",
    "    total = tmp.shape[0]\n",
    "    options.update({match : (n_pos, total)})"
   ]
  },
  {
   "cell_type": "code",
   "execution_count": 27,
   "metadata": {},
   "outputs": [],
   "source": [
    "def get_class_balance(df):\n",
    "    a, b = np.unique(df.frame, return_counts=True)\n",
    "    df_size = sum(b)\n",
    "    ratio = b[1]/df_size\n",
    "    return df_size, ratio"
   ]
  },
  {
   "cell_type": "code",
   "execution_count": null,
   "metadata": {},
   "outputs": [],
   "source": []
  },
  {
   "cell_type": "markdown",
   "metadata": {},
   "source": [
    "# Building a function to find the best possible combination of matches which satisfy:\n",
    "    * a) overall class balance (neg, pos) summing all matches \n",
    "    * b) instance balance as desired by the train val split"
   ]
  },
  {
   "cell_type": "code",
   "execution_count": 28,
   "metadata": {},
   "outputs": [],
   "source": [
    "def get_best_combination(df, options, test_size = 0.2, test_match_count=5, t=0.001):\n",
    "    \"\"\"\n",
    "    Function returns the best combination of matches given a test_size. It also keeps the present class balance\n",
    "    :param: df --dataframe to split\n",
    "    :options: dict of all possible math tpe combinations along with a tuple with info about number of pos classes and total instances.\n",
    "    :param: test_size -- test size\n",
    "    :param: t -- threshold\n",
    "    :return train, val dataframes:\n",
    "    \"\"\"\n",
    "    \n",
    "    main_df_size, ratio = get_class_balance(df)\n",
    "\n",
    "    #all_comb = [i for i in combinations(options, 5)]\n",
    "    for comb in combinations(options, test_match_count):\n",
    "    \n",
    "        sum_pos, sum_all = 0, 0\n",
    "\n",
    "        for match in comb:\n",
    "            e = options[match]\n",
    "            sum_pos+=e[0]\n",
    "            sum_all+=e[1]\n",
    "\n",
    "        frac = sum_pos/sum_all  #frac blance of pos class\n",
    "        perc = sum_all/main_df_size #percent of entire dataset: 20/80 val/train split\n",
    "\n",
    "        if abs(frac-ratio)<t and abs(perc-test_size)<t:\n",
    "            print(\"val: \", frac, perc)\n",
    "            chosen_comb = comb\n",
    "            #stops once a combination is found\n",
    "            break\n",
    "            \n",
    "    val = df[df.match_hash.isin(list(chosen_comb))]\n",
    "    train = df[~df.match_hash.isin(list(chosen_comb))]\n",
    "    \n",
    "    \n",
    "    train_df_size, train_ratio = get_class_balance(train)\n",
    "    print(\"train: \", train_ratio, train_df_size/main_df_size)\n",
    "    \n",
    "    return train, val"
   ]
  },
  {
   "cell_type": "code",
   "execution_count": 45,
   "metadata": {},
   "outputs": [
    {
     "name": "stdout",
     "output_type": "stream",
     "text": [
      "val:  0.5512605042016807 0.19979852249832103\n",
      "train:  0.5535039865715484 0.800201477501679\n"
     ]
    }
   ],
   "source": [
    "train, val = get_best_combination(df_train, options, test_size = 0.2, test_match_count=10, t=0.001)"
   ]
  },
  {
   "cell_type": "markdown",
   "metadata": {},
   "source": [
    "### to obtain a small testing set of two matches, we simply do this procedure again"
   ]
  },
  {
   "cell_type": "code",
   "execution_count": 46,
   "metadata": {},
   "outputs": [],
   "source": [
    "new_options = {}\n",
    "new = list(val.match_hash.unique())\n",
    "for match in new:\n",
    "    try:\n",
    "        new_options.update({match:options[match]})\n",
    "    except KeyError:\n",
    "           pass"
   ]
  },
  {
   "cell_type": "code",
   "execution_count": 47,
   "metadata": {},
   "outputs": [
    {
     "name": "stdout",
     "output_type": "stream",
     "text": [
      "val:  0.48214285714285715 0.18823529411764706\n",
      "train:  0.5548654244306418 0.8117647058823529\n"
     ]
    }
   ],
   "source": [
    "val, test = get_best_combination(val, new_options, test_size = 0.2, test_match_count=2, t=0.1)"
   ]
  },
  {
   "cell_type": "code",
   "execution_count": 48,
   "metadata": {},
   "outputs": [
    {
     "data": {
      "text/plain": [
       "(15, 8, 2)"
      ]
     },
     "execution_count": 48,
     "metadata": {},
     "output_type": "execute_result"
    }
   ],
   "source": [
    "len(train.match_hash.unique()), len(val.match_hash.unique()), len(test.match_hash.unique())"
   ]
  },
  {
   "cell_type": "code",
   "execution_count": null,
   "metadata": {},
   "outputs": [],
   "source": []
  },
  {
   "cell_type": "code",
   "execution_count": 21,
   "metadata": {},
   "outputs": [],
   "source": [
    "train.to_csv(\"data/train.csv\")\n",
    "val.to_csv(\"data/val.csv\")\n",
    "test.to_csv(\"data/test.csv\")"
   ]
  },
  {
   "cell_type": "code",
   "execution_count": 22,
   "metadata": {},
   "outputs": [
    {
     "data": {
      "text/plain": [
       "297.875"
      ]
     },
     "execution_count": 22,
     "metadata": {},
     "output_type": "execute_result"
    }
   ],
   "source": [
    "train.shape[0]/8"
   ]
  },
  {
   "cell_type": "code",
   "execution_count": null,
   "metadata": {},
   "outputs": [],
   "source": []
  }
 ],
 "metadata": {
  "kernelspec": {
   "display_name": "Python 3",
   "language": "python",
   "name": "python3"
  },
  "language_info": {
   "codemirror_mode": {
    "name": "ipython",
    "version": 3
   },
   "file_extension": ".py",
   "mimetype": "text/x-python",
   "name": "python",
   "nbconvert_exporter": "python",
   "pygments_lexer": "ipython3",
   "version": "3.7.5"
  }
 },
 "nbformat": 4,
 "nbformat_minor": 4
}
